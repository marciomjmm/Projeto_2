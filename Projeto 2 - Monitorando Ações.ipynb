{
 "cells": [
  {
   "cell_type": "markdown",
   "metadata": {
    "application/vnd.databricks.v1+cell": {
     "cellMetadata": {
      "byteLimit": 2048000,
      "rowLimit": 10000
     },
     "inputWidgets": {},
     "nuid": "7e7f990a-aaeb-403f-b968-f42f8ed70da8",
     "showTitle": false,
     "title": ""
    }
   },
   "source": [
    "\n",
    "\n",
    "# MONITORAMENTO DE AÇÕES "
   ]
  },
  {
   "cell_type": "markdown",
   "metadata": {
    "application/vnd.databricks.v1+cell": {
     "cellMetadata": {
      "byteLimit": 2048000,
      "rowLimit": 10000
     },
     "inputWidgets": {},
     "nuid": "50fc4f88-c56d-403f-bd8e-650c24126568",
     "showTitle": false,
     "title": ""
    }
   },
   "source": [
    "\n",
    "## install"
   ]
  },
  {
   "cell_type": "code",
   "execution_count": 0,
   "metadata": {
    "application/vnd.databricks.v1+cell": {
     "cellMetadata": {
      "byteLimit": 2048000,
      "rowLimit": 10000
     },
     "inputWidgets": {},
     "nuid": "431bf5e6-5d5a-4f6b-8c6c-c83346098650",
     "showTitle": false,
     "title": ""
    }
   },
   "outputs": [
    {
     "name": "stdout",
     "output_type": "stream",
     "text": [
      "Requirement already satisfied: requests in /databricks/python3/lib/python3.9/site-packages (2.27.1)\r\n",
      "Requirement already satisfied: charset-normalizer~=2.0.0 in /databricks/python3/lib/python3.9/site-packages (from requests) (2.0.4)\r\n",
      "Requirement already satisfied: idna<4,>=2.5 in /databricks/python3/lib/python3.9/site-packages (from requests) (3.3)\r\n",
      "Requirement already satisfied: certifi>=2017.4.17 in /databricks/python3/lib/python3.9/site-packages (from requests) (2021.10.8)\r\n",
      "Requirement already satisfied: urllib3<1.27,>=1.21.1 in /databricks/python3/lib/python3.9/site-packages (from requests) (1.26.9)\r\n",
      "\u001b[33mWARNING: You are using pip version 21.2.4; however, version 24.2 is available.\r\n",
      "You should consider upgrading via the '/local_disk0/.ephemeral_nfs/envs/pythonEnv-da4c2b9b-9cdc-4498-92d1-cf379639e85a/bin/python -m pip install --upgrade pip' command.\u001b[0m\r\n",
      "Collecting yfinance\r\n",
      "  Downloading yfinance-0.2.45-py2.py3-none-any.whl (100 kB)\r\n",
      "\u001b[?25l\r\u001b[K     |███▎                            | 10 kB 22.0 MB/s eta 0:00:01\r\u001b[K     |██████▌                         | 20 kB 5.8 MB/s eta 0:00:01\r\u001b[K     |█████████▊                      | 30 kB 8.2 MB/s eta 0:00:01\r\u001b[K     |█████████████                   | 40 kB 5.3 MB/s eta 0:00:01\r\u001b[K     |████████████████▎               | 51 kB 5.0 MB/s eta 0:00:01\r\u001b[K     |███████████████████▌            | 61 kB 5.9 MB/s eta 0:00:01\r\u001b[K     |██████████████████████▊         | 71 kB 6.0 MB/s eta 0:00:01\r\u001b[K     |██████████████████████████      | 81 kB 5.2 MB/s eta 0:00:01\r\u001b[K     |█████████████████████████████▏  | 92 kB 5.8 MB/s eta 0:00:01\r\u001b[K     |████████████████████████████████| 100 kB 4.4 MB/s \r\n",
      "\u001b[?25hRequirement already satisfied: pandas>=1.3.0 in /databricks/python3/lib/python3.9/site-packages (from yfinance) (1.4.2)\r\n",
      "Requirement already satisfied: platformdirs>=2.0.0 in /usr/local/lib/python3.9/dist-packages (from yfinance) (2.6.2)\r\n",
      "Collecting lxml>=4.9.1\r\n",
      "  Downloading lxml-5.3.0-cp39-cp39-manylinux_2_28_x86_64.whl (5.0 MB)\r\n",
      "\u001b[?25l\r\u001b[K     |                                | 10 kB 23.5 MB/s eta 0:00:01\r\u001b[K     |▏                               | 20 kB 29.7 MB/s eta 0:00:01\r\u001b[K     |▏                               | 30 kB 36.7 MB/s eta 0:00:01\r\u001b[K     |▎                               | 40 kB 40.0 MB/s eta 0:00:01\r\u001b[K     |▎                               | 51 kB 5.8 MB/s eta 0:00:01\r\u001b[K     |▍                               | 61 kB 6.8 MB/s eta 0:00:01\r\u001b[K     |▌                               | 71 kB 7.7 MB/s eta 0:00:01\r\u001b[K     |▌                               | 81 kB 8.4 MB/s eta 0:00:01\r\u001b[K     |▋                               | 92 kB 9.3 MB/s eta 0:00:01\r\u001b[K     |▋                               | 102 kB 6.0 MB/s eta 0:00:01\r\u001b[K     |▊                               | 112 kB 6.0 MB/s eta 0:00:01\r\u001b[K     |▉                               | 122 kB 6.0 MB/s eta 0:00:01\r\u001b[K     |▉                               | 133 kB 6.0 MB/s eta 0:00:01\r\u001b[K     |█                               | 143 kB 6.0 MB/s eta 0:00:01\r\u001b[K     |█                               | 153 kB 6.0 MB/s eta 0:00:01\r\u001b[K     |█                               | 163 kB 6.0 MB/s eta 0:00:01\r\u001b[K     |█                               | 174 kB 6.0 MB/s eta 0:00:01\r\u001b[K     |█▏                              | 184 kB 6.0 MB/s eta 0:00:01\r\u001b[K     |█▎                              | 194 kB 6.0 MB/s eta 0:00:01\r\u001b[K     |█▎                              | 204 kB 6.0 MB/s eta 0:00:01\r\u001b[K     |█▍                              | 215 kB 6.0 MB/s eta 0:00:01\r\u001b[K     |█▍                              | 225 kB 6.0 MB/s eta 0:00:01\r\u001b[K     |█▌                              | 235 kB 6.0 MB/s eta 0:00:01\r\u001b[K     |█▋                              | 245 kB 6.0 MB/s eta 0:00:01\r\u001b[K     |█▋                              | 256 kB 6.0 MB/s eta 0:00:01\r\u001b[K     |█▊                              | 266 kB 6.0 MB/s eta 0:00:01\r\u001b[K     |█▊                              | 276 kB 6.0 MB/s eta 0:00:01\r\u001b[K     |█▉                              | 286 kB 6.0 MB/s eta 0:00:01\r\u001b[K     |██                              | 296 kB 6.0 MB/s eta 0:00:01\r\u001b[K     |██                              | 307 kB 6.0 MB/s eta 0:00:01\r\u001b[K     |██                              | 317 kB 6.0 MB/s eta 0:00:01\r\u001b[K     |██                              | 327 kB 6.0 MB/s eta 0:00:01\r\u001b[K     |██▏                             | 337 kB 6.0 MB/s eta 0:00:01\r\u001b[K     |██▏                             | 348 kB 6.0 MB/s eta 0:00:01\r\u001b[K     |██▎                             | 358 kB 6.0 MB/s eta 0:00:01\r\u001b[K     |██▍                             | 368 kB 6.0 MB/s eta 0:00:01\r\u001b[K     |██▍                             | 378 kB 6.0 MB/s eta 0:00:01\r\u001b[K     |██▌                             | 389 kB 6.0 MB/s eta 0:00:01\r\u001b[K     |██▌                             | 399 kB 6.0 MB/s eta 0:00:01\r\u001b[K     |██▋                             | 409 kB 6.0 MB/s eta 0:00:01\r\u001b[K     |██▊                             | 419 kB 6.0 MB/s eta 0:00:01\r\u001b[K     |██▊                             | 430 kB 6.0 MB/s eta 0:00:01\r\u001b[K     |██▉                             | 440 kB 6.0 MB/s eta 0:00:01\r\u001b[K     |██▉                             | 450 kB 6.0 MB/s eta 0:00:01\r\u001b[K     |███                             | 460 kB 6.0 MB/s eta 0:00:01\r\u001b[K     |███                             | 471 kB 6.0 MB/s eta 0:00:01\r\u001b[K     |███                             | 481 kB 6.0 MB/s eta 0:00:01\r\u001b[K     |███▏                            | 491 kB 6.0 MB/s eta 0:00:01\r\u001b[K     |███▏                            | 501 kB 6.0 MB/s eta 0:00:01\r\u001b[K     |███▎                            | 512 kB 6.0 MB/s eta 0:00:01\r\u001b[K     |███▎                            | 522 kB 6.0 MB/s eta 0:00:01\r\u001b[K     |███▍                            | 532 kB 6.0 MB/s eta 0:00:01\r\u001b[K     |███▌                            | 542 kB 6.0 MB/s eta 0:00:01\r\u001b[K     |███▌                            | 552 kB 6.0 MB/s eta 0:00:01\r\u001b[K     |███▋                            | 563 kB 6.0 MB/s eta 0:00:01\r\u001b[K     |███▋                            | 573 kB 6.0 MB/s eta 0:00:01\r\u001b[K     |███▊                            | 583 kB 6.0 MB/s eta 0:00:01\r\u001b[K     |███▉                            | 593 kB 6.0 MB/s eta 0:00:01\r\u001b[K     |███▉                            | 604 kB 6.0 MB/s eta 0:00:01\r\u001b[K     |████                            | 614 kB 6.0 MB/s eta 0:00:01\r\u001b[K     |████                            | 624 kB 6.0 MB/s eta 0:00:01\r\u001b[K     |████                            | 634 kB 6.0 MB/s eta 0:00:01\r\u001b[K     |████                            | 645 kB 6.0 MB/s eta 0:00:01\r\u001b[K     |████▏                           | 655 kB 6.0 MB/s eta 0:00:01\r\u001b[K     |████▎                           | 665 kB 6.0 MB/s eta 0:00:01\r\u001b[K     |████▎                           | 675 kB 6.0 MB/s eta 0:00:01\r\u001b[K     |████▍                           | 686 kB 6.0 MB/s eta 0:00:01\r\u001b[K     |████▍                           | 696 kB 6.0 MB/s eta 0:00:01\r\u001b[K     |████▌                           | 706 kB 6.0 MB/s eta 0:00:01\r\u001b[K     |████▋                           | 716 kB 6.0 MB/s eta 0:00:01\r\u001b[K     |████▋                           | 727 kB 6.0 MB/s eta 0:00:01\r\u001b[K     |████▊                           | 737 kB 6.0 MB/s eta 0:00:01\r\u001b[K     |████▊                           | 747 kB 6.0 MB/s eta 0:00:01\r\u001b[K     |████▉                           | 757 kB 6.0 MB/s eta 0:00:01\r\u001b[K     |█████                           | 768 kB 6.0 MB/s eta 0:00:01\r\u001b[K     |█████                           | 778 kB 6.0 MB/s eta 0:00:01\r\u001b[K     |█████                           | 788 kB 6.0 MB/s eta 0:00:01\r\u001b[K     |█████                           | 798 kB 6.0 MB/s eta 0:00:01\r\u001b[K     |█████▏                          | 808 kB 6.0 MB/s eta 0:00:01\r\u001b[K     |█████▏                          | 819 kB 6.0 MB/s eta 0:00:01\r\u001b[K     |█████▎                          | 829 kB 6.0 MB/s eta 0:00:01\r\u001b[K     |█████▍                          | 839 kB 6.0 MB/s eta 0:00:01\r\u001b[K     |█████▍                          | 849 kB 6.0 MB/s eta 0:00:01\r\u001b[K     |█████▌                          | 860 kB 6.0 MB/s eta 0:00:01\r\u001b[K     |█████▌                          | 870 kB 6.0 MB/s eta 0:00:01\r\u001b[K     |█████▋                          | 880 kB 6.0 MB/s eta 0:00:01\r\u001b[K     |█████▊                          | 890 kB 6.0 MB/s eta 0:00:01\r\u001b[K     |█████▊                          | 901 kB 6.0 MB/s eta 0:00:01\r\u001b[K     |█████▉                          | 911 kB 6.0 MB/s eta 0:00:01\r\u001b[K     |█████▉                          | 921 kB 6.0 MB/s eta 0:00:01\r\u001b[K     |██████                          | 931 kB 6.0 MB/s eta 0:00:01\r\u001b[K     |██████                          | 942 kB 6.0 MB/s eta 0:00:01\r\u001b[K     |██████                          | 952 kB 6.0 MB/s eta 0:00:01\r\u001b[K     |██████▏                         | 962 kB 6.0 MB/s eta 0:00:01\r\u001b[K     |██████▏                         | 972 kB 6.0 MB/s eta 0:00:01\r\u001b[K     |██████▎                         | 983 kB 6.0 MB/s eta 0:00:01\r\u001b[K     |██████▎                         | 993 kB 6.0 MB/s eta 0:00:01\r\u001b[K     |██████▍                         | 1.0 MB 6.0 MB/s eta 0:00:01\r\u001b[K     |██████▌                         | 1.0 MB 6.0 MB/s eta 0:00:01\r\u001b[K     |██████▌                         | 1.0 MB 6.0 MB/s eta 0:00:01\r\u001b[K     |██████▋                         | 1.0 MB 6.0 MB/s eta 0:00:01\r\u001b[K     |██████▋                         | 1.0 MB 6.0 MB/s eta 0:00:01\r\u001b[K     |██████▊                         | 1.1 MB 6.0 MB/s eta 0:00:01\r\u001b[K     |██████▉                         | 1.1 MB 6.0 MB/s eta 0:00:01\r\u001b[K     |██████▉                         | 1.1 MB 6.0 MB/s eta 0:00:01\r\u001b[K     |███████                         | 1.1 MB 6.0 MB/s eta 0:00:01\r\u001b[K     |███████                         | 1.1 MB 6.0 MB/s eta 0:00:01\r\u001b[K     |███████                         | 1.1 MB 6.0 MB/s eta 0:00:01\r\u001b[K     |███████                         | 1.1 MB 6.0 MB/s eta 0:00:01\r\u001b[K     |███████▏                        | 1.1 MB 6.0 MB/s eta 0:00:01\r\u001b[K     |███████▎                        | 1.1 MB 6.0 MB/s eta 0:00:01\r\u001b[K     |███████▎                        | 1.1 MB 6.0 MB/s eta 0:00:01\r\u001b[K     |███████▍                        | 1.2 MB 6.0 MB/s eta 0:00:01\r\u001b[K     |███████▍                        | 1.2 MB 6.0 MB/s eta 0:00:01\r\u001b[K     |███████▌                        | 1.2 MB 6.0 MB/s eta 0:00:01\r\u001b[K     |███████▋                        | 1.2 MB 6.0 MB/s eta 0:00:01\r\u001b[K     |███████▋                        | 1.2 MB 6.0 MB/s eta 0:00:01\r\u001b[K     |███████▊                        | 1.2 MB 6.0 MB/s eta 0:00:01\r\u001b[K     |███████▊                        | 1.2 MB 6.0 MB/s eta 0:00:01\r\u001b[K     |███████▉                        | 1.2 MB 6.0 MB/s eta 0:00:01\r\u001b[K     |███████▉                        | 1.2 MB 6.0 MB/s eta 0:00:01\r\u001b[K     |████████                        | 1.2 MB 6.0 MB/s eta 0:00:01\r\u001b[K     |████████                        | 1.3 MB 6.0 MB/s eta 0:00:01\r\u001b[K     |████████                        | 1.3 MB 6.0 MB/s eta 0:00:01\r\u001b[K     |████████▏                       | 1.3 MB 6.0 MB/s eta 0:00:01\r\u001b[K     |████████▏                       | 1.3 MB 6.0 MB/s eta 0:00:01\r\u001b[K     |████████▎                       | 1.3 MB 6.0 MB/s eta 0:00:01\r\u001b[K     |████████▍                       | 1.3 MB 6.0 MB/s eta 0:00:01\r\u001b[K     |████████▍                       | 1.3 MB 6.0 MB/s eta 0:00:01\r\u001b[K     |████████▌                       | 1.3 MB 6.0 MB/s eta 0:00:01\r\u001b[K     |████████▌                       | 1.3 MB 6.0 MB/s eta 0:00:01\r\u001b[K     |████████▋                       | 1.4 MB 6.0 MB/s eta 0:00:01\r\u001b[K     |████████▊                       | 1.4 MB 6.0 MB/s eta 0:00:01\r\u001b[K     |████████▊                       | 1.4 MB 6.0 MB/s eta 0:00:01\r\u001b[K     |████████▉                       | 1.4 MB 6.0 MB/s eta 0:00:01\r\u001b[K     |████████▉                       | 1.4 MB 6.0 MB/s eta 0:00:01\r\u001b[K     |█████████                       | 1.4 MB 6.0 MB/s eta 0:00:01\r\u001b[K     |█████████                       | 1.4 MB 6.0 MB/s eta 0:00:01\r\u001b[K     |█████████                       | 1.4 MB 6.0 MB/s eta 0:00:01\r\u001b[K     |█████████▏                      | 1.4 MB 6.0 MB/s eta 0:00:01\r\u001b[K     |█████████▏                      | 1.4 MB 6.0 MB/s eta 0:00:01\r\u001b[K     |█████████▎                      | 1.5 MB 6.0 MB/s eta 0:00:01\r\u001b[K     |█████████▎                      | 1.5 MB 6.0 MB/s eta 0:00:01\r\u001b[K     |█████████▍                      | 1.5 MB 6.0 MB/s eta 0:00:01\r\u001b[K     |█████████▌                      | 1.5 MB 6.0 MB/s eta 0:00:01\r\u001b[K     |█████████▌                      | 1.5 MB 6.0 MB/s eta 0:00:01\r\u001b[K     |█████████▋                      | 1.5 MB 6.0 MB/s eta 0:00:01\r\u001b[K     |█████████▋                      | 1.5 MB 6.0 MB/s eta 0:00:01\r\u001b[K     |█████████▊                      | 1.5 MB 6.0 MB/s eta 0:00:01\r\u001b[K     |█████████▉                      | 1.5 MB 6.0 MB/s eta 0:00:01\r\u001b[K     |█████████▉                      | 1.5 MB 6.0 MB/s eta 0:00:01\r\u001b[K     |██████████                      | 1.6 MB 6.0 MB/s eta 0:00:01\r\u001b[K     |██████████                      | 1.6 MB 6.0 MB/s eta 0:00:01\r\u001b[K     |██████████                      | 1.6 MB 6.0 MB/s eta 0:00:01\r\u001b[K     |██████████                      | 1.6 MB 6.0 MB/s eta 0:00:01\r\u001b[K     |██████████▏                     | 1.6 MB 6.0 MB/s eta 0:00:01\r\u001b[K     |██████████▎                     | 1.6 MB 6.0 MB/s eta 0:00:01\r\u001b[K     |██████████▎                     | 1.6 MB 6.0 MB/s eta 0:00:01\r\u001b[K     |██████████▍                     | 1.6 MB 6.0 MB/s eta 0:00:01\r\u001b[K     |██████████▍                     | 1.6 MB 6.0 MB/s eta 0:00:01\r\u001b[K     |██████████▌                     | 1.6 MB 6.0 MB/s eta 0:00:01\r\u001b[K     |██████████▋                     | 1.7 MB 6.0 MB/s eta 0:00:01\r\u001b[K     |██████████▋                     | 1.7 MB 6.0 MB/s eta 0:00:01\r\u001b[K     |██████████▊                     | 1.7 MB 6.0 MB/s eta 0:00:01\r\u001b[K     |██████████▊                     | 1.7 MB 6.0 MB/s eta 0:00:01\r\u001b[K     |██████████▉                     | 1.7 MB 6.0 MB/s eta 0:00:01\r\u001b[K     |██████████▉                     | 1.7 MB 6.0 MB/s eta 0:00:01\r\u001b[K     |███████████                     | 1.7 MB 6.0 MB/s eta 0:00:01\r\u001b[K     |███████████                     | 1.7 MB 6.0 MB/s eta 0:00:01\r\u001b[K     |███████████                     | 1.7 MB 6.0 MB/s eta 0:00:01\r\u001b[K     |███████████▏                    | 1.8 MB 6.0 MB/s eta 0:00:01\r\u001b[K     |███████████▏                    | 1.8 MB 6.0 MB/s eta 0:00:01\r\u001b[K     |███████████▎                    | 1.8 MB 6.0 MB/s eta 0:00:01\r\u001b[K     |███████████▍                    | 1.8 MB 6.0 MB/s eta 0:00:01\r\u001b[K     |███████████▍                    | 1.8 MB 6.0 MB/s eta 0:00:01\r\u001b[K     |███████████▌                    | 1.8 MB 6.0 MB/s eta 0:00:01\r\u001b[K     |███████████▌                    | 1.8 MB 6.0 MB/s eta 0:00:01\r\u001b[K     |███████████▋                    | 1.8 MB 6.0 MB/s eta 0:00:01\r\u001b[K     |███████████▊                    | 1.8 MB 6.0 MB/s eta 0:00:01\r\u001b[K     |███████████▊                    | 1.8 MB 6.0 MB/s eta 0:00:01\r\u001b[K     |███████████▉                    | 1.9 MB 6.0 MB/s eta 0:00:01\r\u001b[K     |███████████▉                    | 1.9 MB 6.0 MB/s eta 0:00:01\r\u001b[K     |████████████                    | 1.9 MB 6.0 MB/s eta 0:00:01\r\u001b[K     |████████████                    | 1.9 MB 6.0 MB/s eta 0:00:01\r\u001b[K     |████████████                    | 1.9 MB 6.0 MB/s eta 0:00:01\r\u001b[K     |████████████▏                   | 1.9 MB 6.0 MB/s eta 0:00:01\r\u001b[K     |████████████▏                   | 1.9 MB 6.0 MB/s eta 0:00:01\r\u001b[K     |████████████▎                   | 1.9 MB 6.0 MB/s eta 0:00:01\r\u001b[K     |████████████▎                   | 1.9 MB 6.0 MB/s eta 0:00:01\r\u001b[K     |████████████▍                   | 1.9 MB 6.0 MB/s eta 0:00:01\r\u001b[K     |████████████▌                   | 2.0 MB 6.0 MB/s eta 0:00:01\r\u001b[K     |████████████▌                   | 2.0 MB 6.0 MB/s eta 0:00:01\r\u001b[K     |████████████▋                   | 2.0 MB 6.0 MB/s eta 0:00:01\r\u001b[K     |████████████▋                   | 2.0 MB 6.0 MB/s eta 0:00:01\r\u001b[K     |████████████▊                   | 2.0 MB 6.0 MB/s eta 0:00:01\r\u001b[K     |████████████▉                   | 2.0 MB 6.0 MB/s eta 0:00:01\r\u001b[K     |████████████▉                   | 2.0 MB 6.0 MB/s eta 0:00:01\r\u001b[K     |█████████████                   | 2.0 MB 6.0 MB/s eta 0:00:01\r\u001b[K     |█████████████                   | 2.0 MB 6.0 MB/s eta 0:00:01\r\u001b[K     |█████████████                   | 2.0 MB 6.0 MB/s eta 0:00:01\r\u001b[K     |█████████████                   | 2.1 MB 6.0 MB/s eta 0:00:01\r\u001b[K     |█████████████▏                  | 2.1 MB 6.0 MB/s eta 0:00:01\r\u001b[K     |█████████████▎                  | 2.1 MB 6.0 MB/s eta 0:00:01\r\u001b[K     |█████████████▎                  | 2.1 MB 6.0 MB/s eta 0:00:01\r\u001b[K     |█████████████▍                  | 2.1 MB 6.0 MB/s eta 0:00:01\r\u001b[K     |█████████████▍                  | 2.1 MB 6.0 MB/s eta 0:00:01\r\u001b[K     |█████████████▌                  | 2.1 MB 6.0 MB/s eta 0:00:01\r\u001b[K     |█████████████▋                  | 2.1 MB 6.0 MB/s eta 0:00:01\r\u001b[K     |█████████████▋                  | 2.1 MB 6.0 MB/s eta 0:00:01\r\u001b[K     |█████████████▊                  | 2.2 MB 6.0 MB/s eta 0:00:01\r\u001b[K     |█████████████▊                  | 2.2 MB 6.0 MB/s eta 0:00:01\r\u001b[K     |█████████████▉                  | 2.2 MB 6.0 MB/s eta 0:00:01\r\u001b[K     |█████████████▉                  | 2.2 MB 6.0 MB/s eta 0:00:01\r\u001b[K     |██████████████                  | 2.2 MB 6.0 MB/s eta 0:00:01\r\u001b[K     |██████████████                  | 2.2 MB 6.0 MB/s eta 0:00:01\r\u001b[K     |██████████████                  | 2.2 MB 6.0 MB/s eta 0:00:01\r\u001b[K     |██████████████▏                 | 2.2 MB 6.0 MB/s eta 0:00:01\r\u001b[K     |██████████████▏                 | 2.2 MB 6.0 MB/s eta 0:00:01\r\u001b[K     |██████████████▎                 | 2.2 MB 6.0 MB/s eta 0:00:01\r\u001b[K     |██████████████▍                 | 2.3 MB 6.0 MB/s eta 0:00:01\r\u001b[K     |██████████████▍                 | 2.3 MB 6.0 MB/s eta 0:00:01\r\u001b[K     |██████████████▌                 | 2.3 MB 6.0 MB/s eta 0:00:01\r\u001b[K     |██████████████▌                 | 2.3 MB 6.0 MB/s eta 0:00:01\r\u001b[K     |██████████████▋                 | 2.3 MB 6.0 MB/s eta 0:00:01\r\u001b[K     |██████████████▊                 | 2.3 MB 6.0 MB/s eta 0:00:01\r\u001b[K     |██████████████▊                 | 2.3 MB 6.0 MB/s eta 0:00:01\r\u001b[K     |██████████████▉                 | 2.3 MB 6.0 MB/s eta 0:00:01\r\u001b[K     |██████████████▉                 | 2.3 MB 6.0 MB/s eta 0:00:01\r\u001b[K     |███████████████                 | 2.3 MB 6.0 MB/s eta 0:00:01\r\u001b[K     |███████████████                 | 2.4 MB 6.0 MB/s eta 0:00:01\r\u001b[K     |███████████████                 | 2.4 MB 6.0 MB/s eta 0:00:01\r\u001b[K     |███████████████▏                | 2.4 MB 6.0 MB/s eta 0:00:01\r\u001b[K     |███████████████▏                | 2.4 MB 6.0 MB/s eta 0:00:01\r\u001b[K     |███████████████▎                | 2.4 MB 6.0 MB/s eta 0:00:01\r\u001b[K     |███████████████▎                | 2.4 MB 6.0 MB/s eta 0:00:01\r\u001b[K     |███████████████▍                | 2.4 MB 6.0 MB/s eta 0:00:01\r\u001b[K     |███████████████▌                | 2.4 MB 6.0 MB/s eta 0:00:01\r\u001b[K     |███████████████▌                | 2.4 MB 6.0 MB/s eta 0:00:01\r\u001b[K     |███████████████▋                | 2.4 MB 6.0 MB/s eta 0:00:01\r\u001b[K     |███████████████▋                | 2.5 MB 6.0 MB/s eta 0:00:01\r\u001b[K     |███████████████▊                | 2.5 MB 6.0 MB/s eta 0:00:01\r\u001b[K     |███████████████▊                | 2.5 MB 6.0 MB/s eta 0:00:01\r\u001b[K     |███████████████▉                | 2.5 MB 6.0 MB/s eta 0:00:01\r\u001b[K     |████████████████                | 2.5 MB 6.0 MB/s eta 0:00:01\r\u001b[K     |████████████████                | 2.5 MB 6.0 MB/s eta 0:00:01\r\u001b[K     |████████████████                | 2.5 MB 6.0 MB/s eta 0:00:01\r\u001b[K     |████████████████                | 2.5 MB 6.0 MB/s eta 0:00:01\r\u001b[K     |████████████████▏               | 2.5 MB 6.0 MB/s eta 0:00:01\r\u001b[K     |████████████████▎               | 2.5 MB 6.0 MB/s eta 0:00:01\r\u001b[K     |████████████████▎               | 2.6 MB 6.0 MB/s eta 0:00:01\r\u001b[K     |████████████████▍               | 2.6 MB 6.0 MB/s eta 0:00:01\r\u001b[K     |████████████████▍               | 2.6 MB 6.0 MB/s eta 0:00:01\r\u001b[K     |████████████████▌               | 2.6 MB 6.0 MB/s eta 0:00:01\r\u001b[K     |████████████████▋               | 2.6 MB 6.0 MB/s eta 0:00:01\r\u001b[K     |████████████████▋               | 2.6 MB 6.0 MB/s eta 0:00:01\r\u001b[K     |████████████████▊               | 2.6 MB 6.0 MB/s eta 0:00:01\r\u001b[K     |████████████████▊               | 2.6 MB 6.0 MB/s eta 0:00:01\r\u001b[K     |████████████████▉               | 2.6 MB 6.0 MB/s eta 0:00:01\r\u001b[K     |████████████████▉               | 2.7 MB 6.0 MB/s eta 0:00:01\r\u001b[K     |█████████████████               | 2.7 MB 6.0 MB/s eta 0:00:01\r\u001b[K     |█████████████████               | 2.7 MB 6.0 MB/s eta 0:00:01\r\u001b[K     |█████████████████               | 2.7 MB 6.0 MB/s eta 0:00:01\r\u001b[K     |█████████████████▏              | 2.7 MB 6.0 MB/s eta 0:00:01\r\u001b[K     |█████████████████▏              | 2.7 MB 6.0 MB/s eta 0:00:01\r\u001b[K     |█████████████████▎              | 2.7 MB 6.0 MB/s eta 0:00:01\r\u001b[K     |█████████████████▍              | 2.7 MB 6.0 MB/s eta 0:00:01\r\u001b[K     |█████████████████▍              | 2.7 MB 6.0 MB/s eta 0:00:01\r\u001b[K     |█████████████████▌              | 2.7 MB 6.0 MB/s eta 0:00:01\r\u001b[K     |█████████████████▌              | 2.8 MB 6.0 MB/s eta 0:00:01\r\u001b[K     |█████████████████▋              | 2.8 MB 6.0 MB/s eta 0:00:01\r\u001b[K     |█████████████████▊              | 2.8 MB 6.0 MB/s eta 0:00:01\r\u001b[K     |█████████████████▊              | 2.8 MB 6.0 MB/s eta 0:00:01\r\u001b[K     |█████████████████▉              | 2.8 MB 6.0 MB/s eta 0:00:01\r\u001b[K     |█████████████████▉              | 2.8 MB 6.0 MB/s eta 0:00:01\r\u001b[K     |██████████████████              | 2.8 MB 6.0 MB/s eta 0:00:01\r\u001b[K     |██████████████████              | 2.8 MB 6.0 MB/s eta 0:00:01\r\u001b[K     |██████████████████              | 2.8 MB 6.0 MB/s eta 0:00:01\r\u001b[K     |██████████████████▏             | 2.8 MB 6.0 MB/s eta 0:00:01\r\u001b[K     |██████████████████▏             | 2.9 MB 6.0 MB/s eta 0:00:01\r\u001b[K     |██████████████████▎             | 2.9 MB 6.0 MB/s eta 0:00:01\r\u001b[K     |██████████████████▎             | 2.9 MB 6.0 MB/s eta 0:00:01\r\u001b[K     |██████████████████▍             | 2.9 MB 6.0 MB/s eta 0:00:01\r\u001b[K     |██████████████████▌             | 2.9 MB 6.0 MB/s eta 0:00:01\r\u001b[K     |██████████████████▌             | 2.9 MB 6.0 MB/s eta 0:00:01\r\u001b[K     |██████████████████▋             | 2.9 MB 6.0 MB/s eta 0:00:01\r\u001b[K     |██████████████████▋             | 2.9 MB 6.0 MB/s eta 0:00:01\r\u001b[K     |██████████████████▊             | 2.9 MB 6.0 MB/s eta 0:00:01\r\u001b[K     |██████████████████▊             | 2.9 MB 6.0 MB/s eta 0:00:01\r\u001b[K     |██████████████████▉             | 3.0 MB 6.0 MB/s eta 0:00:01\r\u001b[K     |███████████████████             | 3.0 MB 6.0 MB/s eta 0:00:01\r\u001b[K     |███████████████████             | 3.0 MB 6.0 MB/s eta 0:00:01\r\u001b[K     |███████████████████             | 3.0 MB 6.0 MB/s eta 0:00:01\r\u001b[K     |███████████████████             | 3.0 MB 6.0 MB/s eta 0:00:01\r\u001b[K     |███████████████████▏            | 3.0 MB 6.0 MB/s eta 0:00:01\r\u001b[K     |███████████████████▎            | 3.0 MB 6.0 MB/s eta 0:00:01\r\u001b[K     |███████████████████▎            | 3.0 MB 6.0 MB/s eta 0:00:01\r\u001b[K     |███████████████████▍            | 3.0 MB 6.0 MB/s eta 0:00:01\r\u001b[K     |███████████████████▍            | 3.1 MB 6.0 MB/s eta 0:00:01\r\u001b[K     |███████████████████▌            | 3.1 MB 6.0 MB/s eta 0:00:01\r\u001b[K     |███████████████████▋            | 3.1 MB 6.0 MB/s eta 0:00:01\r\u001b[K     |███████████████████▋            | 3.1 MB 6.0 MB/s eta 0:00:01\r\u001b[K     |███████████████████▊            | 3.1 MB 6.0 MB/s eta 0:00:01\r\u001b[K     |███████████████████▊            | 3.1 MB 6.0 MB/s eta 0:00:01\r\u001b[K     |███████████████████▉            | 3.1 MB 6.0 MB/s eta 0:00:01\r\u001b[K     |███████████████████▉            | 3.1 MB 6.0 MB/s eta 0:00:01\r\u001b[K     |████████████████████            | 3.1 MB 6.0 MB/s eta 0:00:01\r\u001b[K     |████████████████████            | 3.1 MB 6.0 MB/s eta 0:00:01\r\u001b[K     |████████████████████            | 3.2 MB 6.0 MB/s eta 0:00:01\r\u001b[K     |████████████████████▏           | 3.2 MB 6.0 MB/s eta 0:00:01\r\u001b[K     |████████████████████▏           | 3.2 MB 6.0 MB/s eta 0:00:01\r\u001b[K     |████████████████████▎           | 3.2 MB 6.0 MB/s eta 0:00:01\r\u001b[K     |████████████████████▍           | 3.2 MB 6.0 MB/s eta 0:00:01\r\u001b[K     |████████████████████▍           | 3.2 MB 6.0 MB/s eta 0:00:01\r\u001b[K     |████████████████████▌           | 3.2 MB 6.0 MB/s eta 0:00:01\r\u001b[K     |████████████████████▌           | 3.2 MB 6.0 MB/s eta 0:00:01\r\u001b[K     |████████████████████▋           | 3.2 MB 6.0 MB/s eta 0:00:01\r\u001b[K     |████████████████████▊           | 3.2 MB 6.0 MB/s eta 0:00:01\r\u001b[K     |████████████████████▊           | 3.3 MB 6.0 MB/s eta 0:00:01\r\u001b[K     |████████████████████▉           | 3.3 MB 6.0 MB/s eta 0:00:01\r\u001b[K     |████████████████████▉           | 3.3 MB 6.0 MB/s eta 0:00:01\r\u001b[K     |█████████████████████           | 3.3 MB 6.0 MB/s eta 0:00:01\r\u001b[K     |█████████████████████           | 3.3 MB 6.0 MB/s eta 0:00:01\r\u001b[K     |█████████████████████           | 3.3 MB 6.0 MB/s eta 0:00:01\r\u001b[K     |█████████████████████▏          | 3.3 MB 6.0 MB/s eta 0:00:01\r\u001b[\n",
      "\n",
      "*** WARNING: max output size exceeded, skipping output. ***\n",
      "\n",
      ":00:01\r\u001b[K     |███████████████████▉            | 1.8 MB 13.7 MB/s eta 0:00:01\r\u001b[K     |████████████████████            | 1.8 MB 13.7 MB/s eta 0:00:01\r\u001b[K     |████████████████████            | 1.8 MB 13.7 MB/s eta 0:00:01\r\u001b[K     |████████████████████▏           | 1.9 MB 13.7 MB/s eta 0:00:01\r\u001b[K     |████████████████████▎           | 1.9 MB 13.7 MB/s eta 0:00:01\r\u001b[K     |████████████████████▍           | 1.9 MB 13.7 MB/s eta 0:00:01\r\u001b[K     |████████████████████▌           | 1.9 MB 13.7 MB/s eta 0:00:01\r\u001b[K     |████████████████████▋           | 1.9 MB 13.7 MB/s eta 0:00:01\r\u001b[K     |████████████████████▊           | 1.9 MB 13.7 MB/s eta 0:00:01\r\u001b[K     |████████████████████▉           | 1.9 MB 13.7 MB/s eta 0:00:01\r\u001b[K     |█████████████████████           | 1.9 MB 13.7 MB/s eta 0:00:01\r\u001b[K     |█████████████████████           | 1.9 MB 13.7 MB/s eta 0:00:01\r\u001b[K     |█████████████████████▏          | 1.9 MB 13.7 MB/s eta 0:00:01\r\u001b[K     |█████████████████████▎          | 2.0 MB 13.7 MB/s eta 0:00:01\r\u001b[K     |█████████████████████▍          | 2.0 MB 13.7 MB/s eta 0:00:01\r\u001b[K     |█████████████████████▌          | 2.0 MB 13.7 MB/s eta 0:00:01\r\u001b[K     |█████████████████████▋          | 2.0 MB 13.7 MB/s eta 0:00:01\r\u001b[K     |█████████████████████▊          | 2.0 MB 13.7 MB/s eta 0:00:01\r\u001b[K     |█████████████████████▉          | 2.0 MB 13.7 MB/s eta 0:00:01\r\u001b[K     |██████████████████████          | 2.0 MB 13.7 MB/s eta 0:00:01\r\u001b[K     |██████████████████████          | 2.0 MB 13.7 MB/s eta 0:00:01\r\u001b[K     |██████████████████████▏         | 2.0 MB 13.7 MB/s eta 0:00:01\r\u001b[K     |██████████████████████▎         | 2.0 MB 13.7 MB/s eta 0:00:01\r\u001b[K     |██████████████████████▍         | 2.1 MB 13.7 MB/s eta 0:00:01\r\u001b[K     |██████████████████████▌         | 2.1 MB 13.7 MB/s eta 0:00:01\r\u001b[K     |██████████████████████▋         | 2.1 MB 13.7 MB/s eta 0:00:01\r\u001b[K     |██████████████████████▊         | 2.1 MB 13.7 MB/s eta 0:00:01\r\u001b[K     |██████████████████████▉         | 2.1 MB 13.7 MB/s eta 0:00:01\r\u001b[K     |███████████████████████         | 2.1 MB 13.7 MB/s eta 0:00:01\r\u001b[K     |███████████████████████         | 2.1 MB 13.7 MB/s eta 0:00:01\r\u001b[K     |███████████████████████▏        | 2.1 MB 13.7 MB/s eta 0:00:01\r\u001b[K     |███████████████████████▎        | 2.1 MB 13.7 MB/s eta 0:00:01\r\u001b[K     |███████████████████████▍        | 2.2 MB 13.7 MB/s eta 0:00:01\r\u001b[K     |███████████████████████▌        | 2.2 MB 13.7 MB/s eta 0:00:01\r\u001b[K     |███████████████████████▋        | 2.2 MB 13.7 MB/s eta 0:00:01\r\u001b[K     |███████████████████████▊        | 2.2 MB 13.7 MB/s eta 0:00:01\r\u001b[K     |███████████████████████▉        | 2.2 MB 13.7 MB/s eta 0:00:01\r\u001b[K     |████████████████████████        | 2.2 MB 13.7 MB/s eta 0:00:01\r\u001b[K     |████████████████████████        | 2.2 MB 13.7 MB/s eta 0:00:01\r\u001b[K     |████████████████████████▏       | 2.2 MB 13.7 MB/s eta 0:00:01\r\u001b[K     |████████████████████████▎       | 2.2 MB 13.7 MB/s eta 0:00:01\r\u001b[K     |████████████████████████▍       | 2.2 MB 13.7 MB/s eta 0:00:01\r\u001b[K     |████████████████████████▌       | 2.3 MB 13.7 MB/s eta 0:00:01\r\u001b[K     |████████████████████████▋       | 2.3 MB 13.7 MB/s eta 0:00:01\r\u001b[K     |████████████████████████▊       | 2.3 MB 13.7 MB/s eta 0:00:01\r\u001b[K     |████████████████████████▉       | 2.3 MB 13.7 MB/s eta 0:00:01\r\u001b[K     |█████████████████████████       | 2.3 MB 13.7 MB/s eta 0:00:01\r\u001b[K     |█████████████████████████       | 2.3 MB 13.7 MB/s eta 0:00:01\r\u001b[K     |█████████████████████████▏      | 2.3 MB 13.7 MB/s eta 0:00:01\r\u001b[K     |█████████████████████████▎      | 2.3 MB 13.7 MB/s eta 0:00:01\r\u001b[K     |█████████████████████████▍      | 2.3 MB 13.7 MB/s eta 0:00:01\r\u001b[K     |█████████████████████████▌      | 2.3 MB 13.7 MB/s eta 0:00:01\r\u001b[K     |█████████████████████████▋      | 2.4 MB 13.7 MB/s eta 0:00:01\r\u001b[K     |█████████████████████████▊      | 2.4 MB 13.7 MB/s eta 0:00:01\r\u001b[K     |█████████████████████████▉      | 2.4 MB 13.7 MB/s eta 0:00:01\r\u001b[K     |██████████████████████████      | 2.4 MB 13.7 MB/s eta 0:00:01\r\u001b[K     |██████████████████████████      | 2.4 MB 13.7 MB/s eta 0:00:01\r\u001b[K     |██████████████████████████▏     | 2.4 MB 13.7 MB/s eta 0:00:01\r\u001b[K     |██████████████████████████▎     | 2.4 MB 13.7 MB/s eta 0:00:01\r\u001b[K     |██████████████████████████▍     | 2.4 MB 13.7 MB/s eta 0:00:01\r\u001b[K     |██████████████████████████▌     | 2.4 MB 13.7 MB/s eta 0:00:01\r\u001b[K     |██████████████████████████▋     | 2.4 MB 13.7 MB/s eta 0:00:01\r\u001b[K     |██████████████████████████▊     | 2.5 MB 13.7 MB/s eta 0:00:01\r\u001b[K     |██████████████████████████▉     | 2.5 MB 13.7 MB/s eta 0:00:01\r\u001b[K     |███████████████████████████     | 2.5 MB 13.7 MB/s eta 0:00:01\r\u001b[K     |███████████████████████████     | 2.5 MB 13.7 MB/s eta 0:00:01\r\u001b[K     |███████████████████████████▏    | 2.5 MB 13.7 MB/s eta 0:00:01\r\u001b[K     |███████████████████████████▎    | 2.5 MB 13.7 MB/s eta 0:00:01\r\u001b[K     |███████████████████████████▍    | 2.5 MB 13.7 MB/s eta 0:00:01\r\u001b[K     |███████████████████████████▌    | 2.5 MB 13.7 MB/s eta 0:00:01\r\u001b[K     |███████████████████████████▋    | 2.5 MB 13.7 MB/s eta 0:00:01\r\u001b[K     |███████████████████████████▊    | 2.5 MB 13.7 MB/s eta 0:00:01\r\u001b[K     |███████████████████████████▉    | 2.6 MB 13.7 MB/s eta 0:00:01\r\u001b[K     |████████████████████████████    | 2.6 MB 13.7 MB/s eta 0:00:01\r\u001b[K     |████████████████████████████    | 2.6 MB 13.7 MB/s eta 0:00:01\r\u001b[K     |████████████████████████████▏   | 2.6 MB 13.7 MB/s eta 0:00:01\r\u001b[K     |████████████████████████████▎   | 2.6 MB 13.7 MB/s eta 0:00:01\r\u001b[K     |████████████████████████████▍   | 2.6 MB 13.7 MB/s eta 0:00:01\r\u001b[K     |████████████████████████████▌   | 2.6 MB 13.7 MB/s eta 0:00:01\r\u001b[K     |████████████████████████████▋   | 2.6 MB 13.7 MB/s eta 0:00:01\r\u001b[K     |████████████████████████████▊   | 2.6 MB 13.7 MB/s eta 0:00:01\r\u001b[K     |████████████████████████████▉   | 2.7 MB 13.7 MB/s eta 0:00:01\r\u001b[K     |█████████████████████████████   | 2.7 MB 13.7 MB/s eta 0:00:01\r\u001b[K     |█████████████████████████████   | 2.7 MB 13.7 MB/s eta 0:00:01\r\u001b[K     |█████████████████████████████▏  | 2.7 MB 13.7 MB/s eta 0:00:01\r\u001b[K     |█████████████████████████████▎  | 2.7 MB 13.7 MB/s eta 0:00:01\r\u001b[K     |█████████████████████████████▍  | 2.7 MB 13.7 MB/s eta 0:00:01\r\u001b[K     |█████████████████████████████▌  | 2.7 MB 13.7 MB/s eta 0:00:01\r\u001b[K     |█████████████████████████████▋  | 2.7 MB 13.7 MB/s eta 0:00:01\r\u001b[K     |█████████████████████████████▊  | 2.7 MB 13.7 MB/s eta 0:00:01\r\u001b[K     |█████████████████████████████▉  | 2.7 MB 13.7 MB/s eta 0:00:01\r\u001b[K     |██████████████████████████████  | 2.8 MB 13.7 MB/s eta 0:00:01\r\u001b[K     |██████████████████████████████  | 2.8 MB 13.7 MB/s eta 0:00:01\r\u001b[K     |██████████████████████████████▏ | 2.8 MB 13.7 MB/s eta 0:00:01\r\u001b[K     |██████████████████████████████▎ | 2.8 MB 13.7 MB/s eta 0:00:01\r\u001b[K     |██████████████████████████████▍ | 2.8 MB 13.7 MB/s eta 0:00:01\r\u001b[K     |██████████████████████████████▌ | 2.8 MB 13.7 MB/s eta 0:00:01\r\u001b[K     |██████████████████████████████▋ | 2.8 MB 13.7 MB/s eta 0:00:01\r\u001b[K     |██████████████████████████████▊ | 2.8 MB 13.7 MB/s eta 0:00:01\r\u001b[K     |██████████████████████████████▉ | 2.8 MB 13.7 MB/s eta 0:00:01\r\u001b[K     |███████████████████████████████ | 2.8 MB 13.7 MB/s eta 0:00:01\r\u001b[K     |███████████████████████████████ | 2.9 MB 13.7 MB/s eta 0:00:01\r\u001b[K     |███████████████████████████████▏| 2.9 MB 13.7 MB/s eta 0:00:01\r\u001b[K     |███████████████████████████████▎| 2.9 MB 13.7 MB/s eta 0:00:01\r\u001b[K     |███████████████████████████████▍| 2.9 MB 13.7 MB/s eta 0:00:01\r\u001b[K     |███████████████████████████████▌| 2.9 MB 13.7 MB/s eta 0:00:01\r\u001b[K     |███████████████████████████████▋| 2.9 MB 13.7 MB/s eta 0:00:01\r\u001b[K     |███████████████████████████████▊| 2.9 MB 13.7 MB/s eta 0:00:01\r\u001b[K     |███████████████████████████████▉| 2.9 MB 13.7 MB/s eta 0:00:01\r\u001b[K     |████████████████████████████████| 2.9 MB 13.7 MB/s eta 0:00:01\r\u001b[K     |████████████████████████████████| 2.9 MB 13.7 MB/s \r\n",
      "\u001b[?25h  Installing build dependencies ... \u001b[?25l-\b \b\\\b \b|\b \b/\b \bdone\r\n",
      "\u001b[?25h  Getting requirements to build wheel ... \u001b[?25l-\b \berror\r\n",
      "\u001b[31m  ERROR: Command errored out with exit status 1:\r\n",
      "   command: /local_disk0/.ephemeral_nfs/envs/pythonEnv-da4c2b9b-9cdc-4498-92d1-cf379639e85a/bin/python /local_disk0/.ephemeral_nfs/envs/pythonEnv-da4c2b9b-9cdc-4498-92d1-cf379639e85a/lib/python3.9/site-packages/pip/_vendor/pep517/in_process/_in_process.py get_requires_for_build_wheel /tmp/tmpgqnw955z\r\n",
      "       cwd: /tmp/pip-install-24psh9ad/peewee_f06578034a8c4d1ebf37058f699018aa\r\n",
      "  Complete output (40 lines):\r\n",
      "  \r\n",
      "  Error compiling Cython file:\r\n",
      "  ------------------------------------------------------------\r\n",
      "  ...\r\n",
      "      def autocommit(self):\r\n",
      "          if self.conn.initialized and self.conn.db:\r\n",
      "              return sqlite3_get_autocommit(self.conn.db) != 0\r\n",
      "  \r\n",
      "  \r\n",
      "  cdef int _commit_callback(void *userData) noexcept with gil:\r\n",
      "                                           ^\r\n",
      "  ------------------------------------------------------------\r\n",
      "  \r\n",
      "  playhouse/_sqlite_ext.pyx:1511:42: Syntax error in C variable declaration\r\n",
      "  Compiling playhouse/_sqlite_ext.pyx because it depends on /databricks/python/lib/python3.9/site-packages/Cython/Includes/libc/string.pxd.\r\n",
      "  [1/1] Cythonizing playhouse/_sqlite_ext.pyx\r\n",
      "  Traceback (most recent call last):\r\n",
      "    File \"/local_disk0/.ephemeral_nfs/envs/pythonEnv-da4c2b9b-9cdc-4498-92d1-cf379639e85a/lib/python3.9/site-packages/pip/_vendor/pep517/in_process/_in_process.py\", line 349, in <module>\r\n",
      "      main()\r\n",
      "    File \"/local_disk0/.ephemeral_nfs/envs/pythonEnv-da4c2b9b-9cdc-4498-92d1-cf379639e85a/lib/python3.9/site-packages/pip/_vendor/pep517/in_process/_in_process.py\", line 331, in main\r\n",
      "      json_out['return_val'] = hook(**hook_input['kwargs'])\r\n",
      "    File \"/local_disk0/.ephemeral_nfs/envs/pythonEnv-da4c2b9b-9cdc-4498-92d1-cf379639e85a/lib/python3.9/site-packages/pip/_vendor/pep517/in_process/_in_process.py\", line 117, in get_requires_for_build_wheel\r\n",
      "      return hook(config_settings)\r\n",
      "    File \"/databricks/python/lib/python3.9/site-packages/setuptools/build_meta.py\", line 177, in get_requires_for_build_wheel\r\n",
      "      return self._get_build_requires(\r\n",
      "    File \"/databricks/python/lib/python3.9/site-packages/setuptools/build_meta.py\", line 159, in _get_build_requires\r\n",
      "      self.run_setup()\r\n",
      "    File \"/databricks/python/lib/python3.9/site-packages/setuptools/build_meta.py\", line 281, in run_setup\r\n",
      "      super(_BuildMetaLegacyBackend,\r\n",
      "    File \"/databricks/python/lib/python3.9/site-packages/setuptools/build_meta.py\", line 174, in run_setup\r\n",
      "      exec(compile(code, __file__, 'exec'), locals())\r\n",
      "    File \"setup.py\", line 196, in <module>\r\n",
      "      _do_setup(extension_support, sqlite_extension_support)\r\n",
      "    File \"setup.py\", line 191, in _do_setup\r\n",
      "      ext_modules=cythonize(ext_modules))\r\n",
      "    File \"/databricks/python/lib/python3.9/site-packages/Cython/Build/Dependencies.py\", line 1127, in cythonize\r\n",
      "      cythonize_one(*args)\r\n",
      "    File \"/databricks/python/lib/python3.9/site-packages/Cython/Build/Dependencies.py\", line 1250, in cythonize_one\r\n",
      "      raise CompileError(None, pyx_file)\r\n",
      "  Cython.Compiler.Errors.CompileError: playhouse/_sqlite_ext.pyx\r\n",
      "  ----------------------------------------\u001b[0m\r\n",
      "\u001b[33mWARNING: Discarding https://files.pythonhosted.org/packages/a9/50/1dd5ea74c559df4afb8391f8d05f0fec685dbe8effba13bb9072901eb288/peewee-3.16.2.tar.gz#sha256=10769981198c7311f84a0ca8db892fa213303a8eb1305deb795a71e7bd606a91 (from https://pypi.org/simple/peewee/). Command errored out with exit status 1: /local_disk0/.ephemeral_nfs/envs/pythonEnv-da4c2b9b-9cdc-4498-92d1-cf379639e85a/bin/python /local_disk0/.ephemeral_nfs/envs/pythonEnv-da4c2b9b-9cdc-4498-92d1-cf379639e85a/lib/python3.9/site-packages/pip/_vendor/pep517/in_process/_in_process.py get_requires_for_build_wheel /tmp/tmpgqnw955z Check the logs for full command output.\u001b[0m\r\n",
      "\u001b[?25hCollecting yfinance\r\n",
      "  Downloading yfinance-0.2.44-py2.py3-none-any.whl (94 kB)\r\n",
      "\u001b[?25l\r\u001b[K     |███▌                            | 10 kB 12.4 MB/s eta 0:00:01\r\u001b[K     |███████                         | 20 kB 15.5 MB/s eta 0:00:01\r\u001b[K     |██████████▍                     | 30 kB 19.0 MB/s eta 0:00:01\r\u001b[K     |█████████████▉                  | 40 kB 19.3 MB/s eta 0:00:01\r\u001b[K     |█████████████████▎              | 51 kB 20.4 MB/s eta 0:00:01\r\u001b[K     |████████████████████▉           | 61 kB 21.9 MB/s eta 0:00:01\r\u001b[K     |████████████████████████▎       | 71 kB 22.2 MB/s eta 0:00:01\r\u001b[K     |███████████████████████████▊    | 81 kB 11.3 MB/s eta 0:00:01\r\u001b[K     |███████████████████████████████▏| 92 kB 11.5 MB/s eta 0:00:01\r\u001b[K     |████████████████████████████████| 94 kB 2.6 MB/s \r\n",
      "\u001b[?25h  Downloading yfinance-0.2.43-py2.py3-none-any.whl (84 kB)\r\n",
      "\u001b[?25l\r\u001b[K     |███▉                            | 10 kB 15.3 MB/s eta 0:00:01\r\u001b[K     |███████▊                        | 20 kB 20.6 MB/s eta 0:00:01\r\u001b[K     |███████████▋                    | 30 kB 21.8 MB/s eta 0:00:01\r\u001b[K     |███████████████▌                | 40 kB 23.1 MB/s eta 0:00:01\r\u001b[K     |███████████████████▍            | 51 kB 24.3 MB/s eta 0:00:01\r\u001b[K     |███████████████████████▎        | 61 kB 24.4 MB/s eta 0:00:01\r\u001b[K     |███████████████████████████▏    | 71 kB 24.4 MB/s eta 0:00:01\r\u001b[K     |███████████████████████████████ | 81 kB 25.2 MB/s eta 0:00:01\r\u001b[K     |████████████████████████████████| 84 kB 3.8 MB/s \r\n",
      "\u001b[?25h  Downloading yfinance-0.2.42-py2.py3-none-any.whl (84 kB)\r\n",
      "\u001b[?25l\r\u001b[K     |███▉                            | 10 kB 17.7 MB/s eta 0:00:01\r\u001b[K     |███████▊                        | 20 kB 23.2 MB/s eta 0:00:01\r\u001b[K     |███████████▋                    | 30 kB 28.6 MB/s eta 0:00:01\r\u001b[K     |███████████████▌                | 40 kB 29.8 MB/s eta 0:00:01\r\u001b[K     |███████████████████▍            | 51 kB 30.9 MB/s eta 0:00:01\r\u001b[K     |███████████████████████▎        | 61 kB 33.3 MB/s eta 0:00:01\r\u001b[K     |███████████████████████████▏    | 71 kB 34.9 MB/s eta 0:00:01\r\u001b[K     |███████████████████████████████ | 81 kB 36.3 MB/s eta 0:00:01\r\u001b[K     |████████████████████████████████| 84 kB 3.7 MB/s \r\n",
      "\u001b[?25h  Downloading yfinance-0.2.41-py2.py3-none-any.whl (73 kB)\r\n",
      "\u001b[?25l\r\u001b[K     |████▌                           | 10 kB 18.5 MB/s eta 0:00:01\r\u001b[K     |█████████                       | 20 kB 22.0 MB/s eta 0:00:01\r\u001b[K     |█████████████▍                  | 30 kB 26.0 MB/s eta 0:00:01\r\u001b[K     |█████████████████▉              | 40 kB 29.4 MB/s eta 0:00:01\r\u001b[K     |██████████████████████▎         | 51 kB 30.8 MB/s eta 0:00:01\r\u001b[K     |██████████████████████████▊     | 61 kB 32.3 MB/s eta 0:00:01\r\u001b[K     |███████████████████████████████▏| 71 kB 32.8 MB/s eta 0:00:01\r\u001b[K     |████████████████████████████████| 73 kB 2.7 MB/s \r\n",
      "\u001b[?25h  Downloading yfinance-0.2.40-py2.py3-none-any.whl (73 kB)\r\n",
      "\u001b[?25l\r\u001b[K     |████▌                           | 10 kB 18.8 MB/s eta 0:00:01\r\u001b[K     |█████████                       | 20 kB 23.4 MB/s eta 0:00:01\r\u001b[K     |█████████████▍                  | 30 kB 27.2 MB/s eta 0:00:01\r\u001b[K     |█████████████████▉              | 40 kB 28.8 MB/s eta 0:00:01\r\u001b[K     |██████████████████████▎         | 51 kB 30.6 MB/s eta 0:00:01\r\u001b[K     |██████████████████████████▊     | 61 kB 32.2 MB/s eta 0:00:01\r\u001b[K     |███████████████████████████████▏| 71 kB 32.9 MB/s eta 0:00:01\r\u001b[K     |████████████████████████████████| 73 kB 2.1 MB/s \r\n",
      "\u001b[?25h  Downloading yfinance-0.2.39-py2.py3-none-any.whl (73 kB)\r\n",
      "\u001b[?25l\r\u001b[K     |████▌                           | 10 kB 13.1 MB/s eta 0:00:01\r\u001b[K     |█████████                       | 20 kB 17.7 MB/s eta 0:00:01\r\u001b[K     |█████████████▍                  | 30 kB 19.6 MB/s eta 0:00:01\r\u001b[K     |█████████████████▉              | 40 kB 21.6 MB/s eta 0:00:01\r\u001b[K     |██████████████████████▎         | 51 kB 22.6 MB/s eta 0:00:01\r\u001b[K     |██████████████████████████▊     | 61 kB 23.4 MB/s eta 0:00:01\r\u001b[K     |███████████████████████████████▏| 71 kB 24.1 MB/s eta 0:00:01\r\u001b[K     |████████████████████████████████| 73 kB 1.8 MB/s \r\n",
      "\u001b[?25h  Downloading yfinance-0.2.38-py2.py3-none-any.whl (72 kB)\r\n",
      "\u001b[?25l\r\u001b[K     |████▌                           | 10 kB 14.2 MB/s eta 0:00:01\r\u001b[K     |█████████                       | 20 kB 16.0 MB/s eta 0:00:01\r\u001b[K     |█████████████▌                  | 30 kB 19.6 MB/s eta 0:00:01\r\u001b[K     |██████████████████              | 40 kB 20.6 MB/s eta 0:00:01\r\u001b[K     |██████████████████████▌         | 51 kB 20.6 MB/s eta 0:00:01\r\u001b[K     |███████████████████████████     | 61 kB 20.5 MB/s eta 0:00:01\r\u001b[K     |███████████████████████████████▍| 71 kB 20.5 MB/s eta 0:00:01\r\u001b[K     |████████████████████████████████| 72 kB 1.6 MB/s \r\n",
      "\u001b[?25hCollecting appdirs>=1.4.4\r\n",
      "  Downloading appdirs-1.4.4-py2.py3-none-any.whl (9.6 kB)\r\n",
      "Collecting yfinance\r\n",
      "  Downloading yfinance-0.2.37-py2.py3-none-any.whl (72 kB)\r\n",
      "\u001b[?25l\r\u001b[K     |████▌                           | 10 kB 14.6 MB/s eta 0:00:01\r\u001b[K     |█████████                       | 20 kB 18.5 MB/s eta 0:00:01\r\u001b[K     |█████████████▌                  | 30 kB 21.3 MB/s eta 0:00:01\r\u001b[K     |██████████████████              | 40 kB 21.8 MB/s eta 0:00:01\r\u001b[K     |██████████████████████▌         | 51 kB 22.7 MB/s eta 0:00:01\r\u001b[K     |███████████████████████████     | 61 kB 24.0 MB/s eta 0:00:01\r\u001b[K     |███████████████████████████████▍| 71 kB 22.9 MB/s eta 0:00:01\r\u001b[K     |████████████████████████████████| 72 kB 1.6 MB/s \r\n",
      "\u001b[?25h  Downloading yfinance-0.2.36-py2.py3-none-any.whl (72 kB)\r\n",
      "\u001b[?25l\r\u001b[K     |████▌                           | 10 kB 6.1 MB/s eta 0:00:01\r\u001b[K     |█████████                       | 20 kB 8.2 MB/s eta 0:00:01\r\u001b[K     |█████████████▋                  | 30 kB 10.3 MB/s eta 0:00:01\r\u001b[K     |██████████████████              | 40 kB 7.2 MB/s eta 0:00:01\r\u001b[K     |██████████████████████▋         | 51 kB 7.7 MB/s eta 0:00:01\r\u001b[K     |███████████████████████████▏    | 61 kB 8.5 MB/s eta 0:00:01\r\u001b[K     |███████████████████████████████▊| 71 kB 8.6 MB/s eta 0:00:01\r\u001b[K     |████████████████████████████████| 72 kB 729 kB/s \r\n",
      "\u001b[?25h  Downloading yfinance-0.2.35-py2.py3-none-any.whl (72 kB)\r\n",
      "\u001b[?25l\r\u001b[K     |████▌                           | 10 kB 24.3 MB/s eta 0:00:01\r\u001b[K     |█████████                       | 20 kB 29.7 MB/s eta 0:00:01\r\u001b[K     |█████████████▋                  | 30 kB 35.0 MB/s eta 0:00:01\r\u001b[K     |██████████████████▏             | 40 kB 36.9 MB/s eta 0:00:01\r\u001b[K     |██████████████████████▊         | 51 kB 37.5 MB/s eta 0:00:01\r\u001b[K     |███████████████████████████▎    | 61 kB 39.6 MB/s eta 0:00:01\r\u001b[K     |███████████████████████████████▊| 71 kB 40.4 MB/s eta 0:00:01\r\u001b[K     |████████████████████████████████| 72 kB 646 kB/s \r\n",
      "\u001b[?25h  Downloading yfinance-0.2.34-py2.py3-none-any.whl (72 kB)\r\n",
      "\u001b[?25l\r\u001b[K     |████▌                           | 10 kB 21.5 MB/s eta 0:00:01\r\u001b[K     |█████████                       | 20 kB 27.6 MB/s eta 0:00:01\r\u001b[K     |█████████████▋                  | 30 kB 33.4 MB/s eta 0:00:01\r\u001b[K     |██████████████████▏             | 40 kB 34.9 MB/s eta 0:00:01\r\u001b[K     |██████████████████████▊         | 51 kB 36.4 MB/s eta 0:00:01\r\u001b[K     |███████████████████████████▏    | 61 kB 38.7 MB/s eta 0:00:01\r\u001b[K     |███████████████████████████████▊| 71 kB 39.8 MB/s eta 0:00:01\r\u001b[K     |████████████████████████████████| 72 kB 941 kB/s \r\n",
      "\u001b[?25h  Downloading yfinance-0.2.33-py2.py3-none-any.whl (69 kB)\r\n",
      "\u001b[?25l\r\u001b[K     |████▊                           | 10 kB 20.1 MB/s eta 0:00:01\r\u001b[K     |█████████▌                      | 20 kB 26.7 MB/s eta 0:00:01\r\u001b[K     |██████████████▎                 | 30 kB 32.6 MB/s eta 0:00:01\r\u001b[K     |███████████████████             | 40 kB 35.6 MB/s eta 0:00:01\r\u001b[K     |███████████████████████▊        | 51 kB 37.7 MB/s eta 0:00:01\r\u001b[K     |████████████████████████████▌   | 61 kB 38.4 MB/s eta 0:00:01\r\u001b[K     |████████████████████████████████| 69 kB 8.3 MB/s \r\n",
      "\u001b[?25h  Downloading yfinance-0.2.32-py2.py3-none-any.whl (68 kB)\r\n",
      "\u001b[?25l\r\u001b[K     |████▊                           | 10 kB 12.1 MB/s eta 0:00:01\r\u001b[K     |█████████▌                      | 20 kB 16.0 MB/s eta 0:00:01\r\u001b[K     |██████████████▎                 | 30 kB 18.6 MB/s eta 0:00:01\r\u001b[K     |███████████████████             | 40 kB 20.2 MB/s eta 0:00:01\r\u001b[K     |███████████████████████▊        | 51 kB 19.9 MB/s eta 0:00:01\r\u001b[K     |████████████████████████████▌   | 61 kB 20.6 MB/s eta 0:00:01\r\u001b[K     |████████████████████████████████| 68 kB 5.1 MB/s \r\n",
      "\u001b[?25h  Downloading yfinance-0.2.31-py2.py3-none-any.whl (65 kB)\r\n",
      "\u001b[?25l\r\u001b[K     |█████                           | 10 kB 13.9 MB/s eta 0:00:01\r\u001b[K     |██████████                      | 20 kB 17.0 MB/s eta 0:00:01\r\u001b[K     |███████████████                 | 30 kB 17.0 MB/s eta 0:00:01\r\u001b[K     |████████████████████            | 40 kB 11.9 MB/s eta 0:00:01\r\u001b[K     |█████████████████████████       | 51 kB 13.8 MB/s eta 0:00:01\r\u001b[K     |██████████████████████████████  | 61 kB 14.7 MB/s eta 0:00:01\r\u001b[K     |████████████████████████████████| 65 kB 2.6 MB/s \r\n",
      "\u001b[?25h  Downloading yfinance-0.2.30-py2.py3-none-any.whl (65 kB)\r\n",
      "\u001b[?25l\r\u001b[K     |█████                           | 10 kB 13.7 MB/s eta 0:00:01\r\u001b[K     |██████████                      | 20 kB 17.9 MB/s eta 0:00:01\r\u001b[K     |███████████████                 | 30 kB 20.1 MB/s eta 0:00:01\r\u001b[K     |████████████████████            | 40 kB 23.5 MB/s eta 0:00:01\r\u001b[K     |█████████████████████████       | 51 kB 25.3 MB/s eta 0:00:01\r\u001b[K     |██████████████████████████████  | 61 kB 27.2 MB/s eta 0:00:01\r\u001b[K     |████████████████████████████████| 65 kB 4.4 MB/s \r\n",
      "\u001b[?25h  Downloading yfinance-0.2.29-py2.py3-none-any.whl (65 kB)\r\n",
      "\u001b[?25l\r\u001b[K     |█████                           | 10 kB 22.9 MB/s eta 0:00:01\r\u001b[K     |██████████                      | 20 kB 26.9 MB/s eta 0:00:01\r\u001b[K     |███████████████                 | 30 kB 30.5 MB/s eta 0:00:01\r\u001b[K     |████████████████████            | 40 kB 31.9 MB/s eta 0:00:01\r\u001b[K     |█████████████████████████▏      | 51 kB 32.8 MB/s eta 0:00:01\r\u001b[K     |██████████████████████████████▏ | 61 kB 34.9 MB/s eta 0:00:01\r\u001b[K     |████████████████████████████████| 65 kB 4.4 MB/s \r\n",
      "\u001b[?25h  Downloading yfinance-0.2.28-py2.py3-none-any.whl (65 kB)\r\n",
      "\u001b[?25l\r\u001b[K     |█████                           | 10 kB 24.2 MB/s eta 0:00:01\r\u001b[K     |██████████                      | 20 kB 27.2 MB/s eta 0:00:01\r\u001b[K     |███████████████                 | 30 kB 31.4 MB/s eta 0:00:01\r\u001b[K     |████████████████████            | 40 kB 34.0 MB/s eta 0:00:01\r\u001b[K     |█████████████████████████       | 51 kB 34.2 MB/s eta 0:00:01\r\u001b[K     |██████████████████████████████  | 61 kB 34.5 MB/s eta 0:00:01\r\u001b[K     |████████████████████████████████| 65 kB 3.5 MB/s \r\n",
      "\u001b[?25hRequirement already satisfied: numpy>=1.16.5 in /databricks/python3/lib/python3.9/site-packages (from yfinance) (1.21.5)\r\n",
      "Requirement already satisfied: soupsieve>1.2 in /databricks/python3/lib/python3.9/site-packages (from beautifulsoup4>=4.11.1->yfinance) (2.3.1)\r\n",
      "Requirement already satisfied: six>=1.9 in /databricks/python3/lib/python3.9/site-packages (from html5lib>=1.1->yfinance) (1.16.0)\r\n",
      "Requirement already satisfied: webencodings in /databricks/python3/lib/python3.9/site-packages (from html5lib>=1.1->yfinance) (0.5.1)\r\n",
      "Requirement already satisfied: python-dateutil>=2.8.1 in /databricks/python3/lib/python3.9/site-packages (from pandas>=1.3.0->yfinance) (2.8.2)\r\n",
      "Requirement already satisfied: urllib3<3,>=1.21.1 in /databricks/python3/lib/python3.9/site-packages (from requests>=2.31->yfinance) (1.26.9)\r\n",
      "Requirement already satisfied: certifi>=2017.4.17 in /databricks/python3/lib/python3.9/site-packages (from requests>=2.31->yfinance) (2021.10.8)\r\n",
      "Requirement already satisfied: idna<4,>=2.5 in /databricks/python3/lib/python3.9/site-packages (from requests>=2.31->yfinance) (3.3)\r\n",
      "Requirement already satisfied: charset-normalizer<4,>=2 in /databricks/python3/lib/python3.9/site-packages (from requests>=2.31->yfinance) (2.0.4)\r\n",
      "Installing collected packages: pytz, requests, multitasking, lxml, html5lib, frozendict, appdirs, yfinance\r\n",
      "  Attempting uninstall: pytz\r\n",
      "    Found existing installation: pytz 2021.3\r\n",
      "    Not uninstalling pytz at /databricks/python3/lib/python3.9/site-packages, outside environment /local_disk0/.ephemeral_nfs/envs/pythonEnv-da4c2b9b-9cdc-4498-92d1-cf379639e85a\r\n",
      "    Can't uninstall 'pytz'. No files were found to uninstall.\r\n",
      "  Attempting uninstall: requests\r\n",
      "    Found existing installation: requests 2.27.1\r\n",
      "    Not uninstalling requests at /databricks/python3/lib/python3.9/site-packages, outside environment /local_disk0/.ephemeral_nfs/envs/pythonEnv-da4c2b9b-9cdc-4498-92d1-cf379639e85a\r\n",
      "    Can't uninstall 'requests'. No files were found to uninstall.\r\n",
      "Successfully installed appdirs-1.4.4 frozendict-2.4.6 html5lib-1.1 lxml-5.3.0 multitasking-0.0.11 pytz-2024.2 requests-2.32.3 yfinance-0.2.28\r\n",
      "\u001b[33mWARNING: You are using pip version 21.2.4; however, version 24.2 is available.\r\n",
      "You should consider upgrading via the '/local_disk0/.ephemeral_nfs/envs/pythonEnv-da4c2b9b-9cdc-4498-92d1-cf379639e85a/bin/python -m pip install --upgrade pip' command.\u001b[0m\r\n"
     ]
    }
   ],
   "source": [
    "!pip install requests\n",
    "!pip install yfinance"
   ]
  },
  {
   "cell_type": "markdown",
   "metadata": {
    "application/vnd.databricks.v1+cell": {
     "cellMetadata": {
      "byteLimit": 2048000,
      "rowLimit": 10000
     },
     "inputWidgets": {},
     "nuid": "149be67e-9ce4-4b01-b8ff-d1f1a07491cd",
     "showTitle": false,
     "title": ""
    }
   },
   "source": [
    "## import"
   ]
  },
  {
   "cell_type": "code",
   "execution_count": 0,
   "metadata": {
    "application/vnd.databricks.v1+cell": {
     "cellMetadata": {
      "byteLimit": 2048000,
      "rowLimit": 10000
     },
     "inputWidgets": {},
     "nuid": "6fded60d-03c3-4a0c-a155-7a0f41089667",
     "showTitle": false,
     "title": ""
    }
   },
   "outputs": [
    {
     "data": {
      "application/vnd.databricks.v1+bamboolib_hint": "{\"pd.DataFrames\": [], \"version\": \"0.0.1\"}",
      "text/plain": []
     },
     "metadata": {},
     "output_type": "display_data"
    }
   ],
   "source": [
    "import yfinance as yf\n",
    "import pandas as pd\n",
    "import requests\n",
    "import json"
   ]
  },
  {
   "cell_type": "markdown",
   "metadata": {
    "application/vnd.databricks.v1+cell": {
     "cellMetadata": {
      "byteLimit": 2048000,
      "rowLimit": 10000
     },
     "inputWidgets": {},
     "nuid": "07797f4e-6b65-4ddd-a290-5c73a37fb3d8",
     "showTitle": false,
     "title": ""
    }
   },
   "source": [
    "## Config"
   ]
  },
  {
   "cell_type": "code",
   "execution_count": 0,
   "metadata": {
    "application/vnd.databricks.v1+cell": {
     "cellMetadata": {
      "byteLimit": 2048000,
      "rowLimit": 10000
     },
     "inputWidgets": {},
     "nuid": "048e2074-2799-40ff-b01b-e5f543089bd7",
     "showTitle": false,
     "title": ""
    }
   },
   "outputs": [],
   "source": [
    "url = \"https://api.telegram.org/bot{token}/sendMessage\"\n",
    "\n",
    "\n",
    "config = [{\n",
    "    \"acao\" : \"WEGE3.SA\",\n",
    "    \"percent_caiu\" : 1,\n",
    "    \"percent_subiu\" : 1.02,\n",
    "    \"vl_caiu\" : 0.15,\n",
    "    \"vl_subiu\" : 0.07,\n",
    "    \"ids_chat\" : [5456369393]\n",
    "    },\n",
    "    {\n",
    "    \"acao\" : \"POMO4.SA\",\n",
    "    \"percent_caiu\" : 1,\n",
    "    \"percent_subiu\" : 1.02,\n",
    "    \"vl_caiu\" : 0.15,\n",
    "    \"vl_subiu\" : 0.15,\n",
    "    \"ids_chat\" : [5456369393]\n",
    "    },\n",
    "    {\n",
    "    \"acao\" : \"TUPY3.SA\",\n",
    "    \"percent_caiu\" : 1,\n",
    "    \"percent_subiu\" : 1.02,\n",
    "    \"vl_caiu\" : 0.15,\n",
    "    \"vl_subiu\" : 0.15,\n",
    "    \"ids_chat\" : [5456369393]  \n",
    "    },\n",
    "    {\n",
    "    \"acao\" : \"RAPT4.SA\",\n",
    "    \"percent_caiu\" : 1,\n",
    "    \"percent_subiu\" : 1.02,\n",
    "    \"vl_caiu\" : 0.15,\n",
    "    \"vl_subiu\" : 0.15,\n",
    "    \"ids_chat\" : [5456369393]\n",
    "    }          \n",
    "]"
   ]
  },
  {
   "cell_type": "markdown",
   "metadata": {
    "application/vnd.databricks.v1+cell": {
     "cellMetadata": {
      "byteLimit": 2048000,
      "rowLimit": 10000
     },
     "inputWidgets": {},
     "nuid": "ea49d661-6fa9-4f1c-aa2e-969405eeab48",
     "showTitle": false,
     "title": ""
    }
   },
   "source": [
    "\n",
    "## Get ticket"
   ]
  },
  {
   "cell_type": "code",
   "execution_count": 0,
   "metadata": {
    "application/vnd.databricks.v1+cell": {
     "cellMetadata": {
      "byteLimit": 2048000,
      "rowLimit": 10000
     },
     "inputWidgets": {},
     "nuid": "c6b6e2a6-6b4c-481d-9f5e-43a2257a7762",
     "showTitle": true,
     "title": "get_ticket"
    }
   },
   "outputs": [],
   "source": [
    "def get_ticket(p_acao):\n",
    "    '''\n",
    "    função que retorna os valores de uma determinada ação na ultima cotação disponível \n",
    "    Args: \n",
    "        p_acao::string\n",
    "    Returns:        \n",
    "        vl_abertura:: float\n",
    "        vl_fechamento:: float\n",
    "        vl_variacao::float\n",
    "        percent_variacao::float\n",
    "    '''\n",
    "    \n",
    "    df = yf.download(p_acao,period='1d')\n",
    "    \n",
    "    vl_open = df.iloc[0]['Open']\n",
    "    vl_close = df.iloc[0]['Close']\n",
    "    \n",
    "    #TRATA ERRO NO YFINANCE\n",
    "    if(vl_open == 0 or vl_close == 0):\n",
    "        print('problema no yfinance')\n",
    "        df = yf.download(p_acao,period='2d')\n",
    "        vl_open = df.iloc[0]['Open']\n",
    "        vl_close = df.iloc[0]['Close']    \n",
    "\n",
    "\n",
    "\n",
    "    vl_variacao = vl_close-vl_open    \n",
    "    pc_variacao = ((vl_close*100)/vl_open)-100 \n",
    "\n",
    "    return {\"vl_abertura\":round(vl_open,2), \"vl_fechamento\": round(vl_close,2),\"vl_variacao\":round(vl_variacao,2), \"percent_variacao\" : round(pc_variacao,2)}\n",
    "\n"
   ]
  },
  {
   "cell_type": "markdown",
   "metadata": {
    "application/vnd.databricks.v1+cell": {
     "cellMetadata": {
      "byteLimit": 2048000,
      "rowLimit": 10000
     },
     "inputWidgets": {},
     "nuid": "34c1b374-a855-48d1-a794-e77dada0a9a4",
     "showTitle": false,
     "title": ""
    }
   },
   "source": [
    "## send message"
   ]
  },
  {
   "cell_type": "code",
   "execution_count": 0,
   "metadata": {
    "application/vnd.databricks.v1+cell": {
     "cellMetadata": {
      "byteLimit": 2048000,
      "rowLimit": 10000
     },
     "inputWidgets": {},
     "nuid": "e8b426d5-b7c3-49d5-a84d-d1351ca07f44",
     "showTitle": true,
     "title": "## send message"
    }
   },
   "outputs": [],
   "source": [
    "\n",
    "\n",
    "def send_message_telegram(p_idChat, p_text):\n",
    "    '''\n",
    "    Envia mensagem para o Telegram - via avisa_acoes_bot\n",
    "\n",
    "    Args:\n",
    "        p_idChat::list -> Código unico da conversa\n",
    "        p_text::String -> Corpo da mensagem\n",
    "    '''\n",
    "\n",
    "    for idchat in p_idChat:\n",
    "\n",
    "        payload = json.dumps({\n",
    "        \"chat_id\": idchat ,\n",
    "        \"text\": p_text,\n",
    "        \"parse_mode\" :\"HTML\"\n",
    "        })\n",
    "        headers = {\n",
    "        'Content-Type': 'application/json'\n",
    "        }\n",
    "        response = requests.request(\"POST\", url, headers=headers, data=payload)\n",
    "\n",
    "    return True\n"
   ]
  },
  {
   "cell_type": "markdown",
   "metadata": {
    "application/vnd.databricks.v1+cell": {
     "cellMetadata": {
      "byteLimit": 2048000,
      "rowLimit": 10000
     },
     "inputWidgets": {},
     "nuid": "3a269b18-5e2c-4487-ad7b-c3319024dfd5",
     "showTitle": false,
     "title": ""
    }
   },
   "source": [
    "\n",
    "## Flow"
   ]
  },
  {
   "cell_type": "code",
   "execution_count": 0,
   "metadata": {
    "application/vnd.databricks.v1+cell": {
     "cellMetadata": {
      "byteLimit": 2048000,
      "rowLimit": 10000
     },
     "inputWidgets": {},
     "nuid": "1a3fb1a7-128b-470c-b355-5685712d1a27",
     "showTitle": false,
     "title": ""
    }
   },
   "outputs": [
    {
     "name": "stdout",
     "output_type": "stream",
     "text": [
      "{'acao': 'WEGE3.SA', 'percent_caiu': 1, 'percent_subiu': 1.02, 'vl_caiu': 0.15, 'vl_subiu': 0.07, 'ids_chat': [5456369393]}\n",
      "\r[*********************100%%**********************]  1 of 1 completed\n",
      "############################\n",
      "Vai validar se a ação WEGE3.SA caiu 1%\n",
      "A ação WEGE3.SA variou -2.33%\n",
      "-1\n",
      "-2.33\n",
      "--->>> Gatilho ativado\n",
      "{'acao': 'POMO4.SA', 'percent_caiu': 1, 'percent_subiu': 1.02, 'vl_caiu': 0.15, 'vl_subiu': 0.15, 'ids_chat': [5456369393]}\n",
      "\r[*********************100%%**********************]  1 of 1 completed\n",
      "############################\n",
      "Vai validar se a ação POMO4.SA caiu 1%\n",
      "A ação POMO4.SA variou 0.0%\n",
      "-1\n",
      "0.0\n",
      "############################\n",
      "Vai validar se a ação POMO4.SA subiu 1.02%\n",
      "A ação POMO4.SA variou 0.0%\n",
      "1.02\n",
      "0.0\n",
      "Vai validar se a ação POMO4.SA subiu R$0.15\n",
      "A ação POMO4.SA variou 0.0%\n",
      "0.15\n",
      "0.0\n",
      "Vai validar se a ação POMO4.SA caiu R$0.15\n",
      "A ação POMO4.SA variou 0.0%\n",
      "-0.15\n",
      "0.0\n",
      "{'acao': 'TUPY3.SA', 'percent_caiu': 1, 'percent_subiu': 1.02, 'vl_caiu': 0.15, 'vl_subiu': 0.15, 'ids_chat': [5456369393]}\n",
      "\r[*********************100%%**********************]  1 of 1 completed\n",
      "############################\n",
      "Vai validar se a ação TUPY3.SA caiu 1%\n",
      "A ação TUPY3.SA variou -2.39%\n",
      "-1\n",
      "-2.39\n",
      "--->>> Gatilho ativado\n",
      "{'acao': 'RAPT4.SA', 'percent_caiu': 1, 'percent_subiu': 1.02, 'vl_caiu': 0.15, 'vl_subiu': 0.15, 'ids_chat': [5456369393]}\n",
      "\r[*********************100%%**********************]  1 of 1 completed\n",
      "############################\n",
      "Vai validar se a ação RAPT4.SA caiu 1%\n",
      "A ação RAPT4.SA variou -3.66%\n",
      "-1\n",
      "-3.66\n",
      "--->>> Gatilho ativado\n"
     ]
    }
   ],
   "source": [
    "\n",
    "\n",
    "for trigger_alerta in config:\n",
    "    print(trigger_alerta)\n",
    "\n",
    "    # variaveis do gatilho\n",
    "    acao = trigger_alerta.get(\"acao\",\"\")\n",
    "    trigger_percent_caiu = trigger_alerta.get(\"percent_caiu\",0)\n",
    "    trigger_percent_subiu = trigger_alerta.get(\"percent_subiu\",0)\n",
    "    trigger_vl_caiu = trigger_alerta.get(\"vl_caiu\",0)\n",
    "    trigger_vl_subiu = trigger_alerta.get(\"vl_subiu\",0)\n",
    "    trigger_ids_chat = trigger_alerta.get(\"ids_chat\",[])\n",
    "\n",
    "\n",
    "    # busca cotação e valores\n",
    "    json_cotacao = get_ticket(acao)\n",
    "\n",
    "    real_vl_abertura = json_cotacao.get('vl_abertura',0)\n",
    "    real_vl_fechamento = json_cotacao.get('vl_fechamento',0)\n",
    "    real_vl_variacao = json_cotacao.get('vl_variacao',0)\n",
    "    real_percent_variacao = json_cotacao.get('percent_variacao',0)\n",
    "\n",
    "    \n",
    "    #inicia validações\n",
    "    \n",
    "    print('############################')\n",
    "\n",
    "    # VALIDA SE A AÇÃO CAIU EM %\n",
    "    if trigger_percent_caiu != 0:\n",
    "        print(f'Vai validar se a ação {acao} caiu {trigger_percent_caiu}%')\n",
    "        print(f'A ação {acao} variou {real_percent_variacao}%')\n",
    "\n",
    "        print(trigger_percent_caiu*-1)\n",
    "        print(real_percent_variacao)\n",
    "        \n",
    "        if (trigger_percent_caiu*-1 >= real_percent_variacao):\n",
    "        \n",
    "            print('--->>> Gatilho ativado')\n",
    "                    \n",
    "            mensagem = f'''\n",
    "                <b>ATENÇÃO</b>\n",
    "                <i>avisa_acoes BOT Informa</i>\n",
    "\n",
    "                <u>Sua ação <b>{acao}</b> caiu <b>{real_percent_variacao}%</b>  </u> \n",
    "                <pre>Trigger ->{trigger_percent_caiu*-1} % de queda </pre>\n",
    "            \n",
    "            '''\n",
    "\n",
    "\n",
    "            send_message_telegram(trigger_ids_chat,mensagem)\n",
    "            # se disparou uma mensagem por gatilho, não valida os demais gatilhos\n",
    "            continue\n",
    "\n",
    "\n",
    "    print('############################')\n",
    "\n",
    "    # VALIDA SE A AÇÃO SUBIU EM %\n",
    "    if trigger_percent_subiu != 0:\n",
    "        print(f'Vai validar se a ação {acao} subiu {trigger_percent_subiu}%')\n",
    "        print(f'A ação {acao} variou {real_percent_variacao}%')\n",
    "\n",
    "        print(trigger_percent_subiu)\n",
    "        print(real_percent_variacao)\n",
    "        \n",
    "        if (trigger_percent_subiu <= real_percent_variacao):\n",
    "        \n",
    "            print('--->>> Gatilho ativado')\n",
    "        \n",
    "            mensagem = f'''\n",
    "                <b>ATENÇÃO</b>\n",
    "                <i>avisa_acoes BOT Informa</i>\n",
    "\n",
    "                <u>Sua ação <b>{acao}</b> subiu <b>{real_percent_variacao}%</b>  </u> \n",
    "                <pre>Trigger ->{trigger_percent_subiu} % de subida </pre>\n",
    "            \n",
    "            '''\n",
    "\n",
    "            send_message_telegram(trigger_ids_chat,mensagem)   \n",
    "            # se disparou uma mensagem por gatilho, não valida os demais gatilhos\n",
    "            continue      \n",
    "\n",
    "    # VALIDA SE A AÇÃO SUBIU EM VALOR\n",
    "    if trigger_vl_subiu != 0:\n",
    "        print(f'Vai validar se a ação {acao} subiu R${trigger_vl_subiu}')\n",
    "        print(f'A ação {acao} variou {real_vl_variacao}%')\n",
    "\n",
    "        print(trigger_vl_subiu)\n",
    "        print(real_vl_variacao)\n",
    "        \n",
    "        if (trigger_vl_subiu <= real_vl_variacao):\n",
    "        \n",
    "            print('--->>> Gatilho ativado')\n",
    "        \n",
    "            mensagem = f'''\n",
    "                <b>ATENÇÃO</b>\n",
    "                <i>avisa_acoes BOT Informa</i>\n",
    "\n",
    "                <u>Sua ação <b>{acao}</b> subiu <b> R$ {real_vl_variacao}</b>  </u> \n",
    "                <pre>Trigger ->R$ {trigger_vl_subiu} de subida </pre>\n",
    "            \n",
    "            '''\n",
    "\n",
    "            send_message_telegram(trigger_ids_chat,mensagem)   \n",
    "            # se disparou uma mensagem por gatilho, não valida os demais gatilhos\n",
    "            continue                      \n",
    "\n",
    "    # VALIDA SE A AÇÃO CAIU EM VALOR\n",
    "    if trigger_vl_caiu != 0:\n",
    "        print(f'Vai validar se a ação {acao} caiu R${trigger_vl_caiu}')\n",
    "        print(f'A ação {acao} variou {real_vl_variacao}%')\n",
    "\n",
    "        print(trigger_vl_caiu*-1)\n",
    "        print(real_vl_variacao)\n",
    "        \n",
    "        if (trigger_vl_caiu*-1 >= real_vl_variacao):\n",
    "        \n",
    "            print('--->>> Gatilho ativado')\n",
    "\n",
    "            mensagem = f'''\n",
    "                <b>ATENÇÃO</b>\n",
    "                <i>avisa_acoes BOT Informa</i>\n",
    "\n",
    "                <u>Sua ação <b>{acao}</b> caiu <b> R$ {real_vl_variacao}</b>  </u> \n",
    "                <pre>Trigger ->R$ {trigger_vl_caiu*-1} de queda </pre>\n",
    "            \n",
    "            '''\n",
    "        \n",
    "            send_message_telegram(trigger_ids_chat,mensagem)         \n",
    "            # se disparou uma mensagem por gatilho, não valida os demais gatilhos\n",
    "            continue                                  \n",
    "\n"
   ]
  }
 ],
 "metadata": {
  "application/vnd.databricks.v1+notebook": {
   "dashboards": [],
   "environmentMetadata": null,
   "language": "python",
   "notebookMetadata": {
    "pythonIndentUnit": 4
   },
   "notebookName": "Projeto 2 - aula 3 - Monitora Ações",
   "widgets": {}
  },
  "language_info": {
   "name": "python"
  }
 },
 "nbformat": 4,
 "nbformat_minor": 0
}
